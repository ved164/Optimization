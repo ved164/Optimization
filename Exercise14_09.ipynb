{
  "nbformat": 4,
  "nbformat_minor": 0,
  "metadata": {
    "colab": {
      "name": "Exercise14.09",
      "provenance": [],
      "collapsed_sections": [],
      "authorship_tag": "ABX9TyMQzaqkzwtXzwB0zsMwEb58"
    },
    "kernelspec": {
      "name": "python3",
      "display_name": "Python 3"
    }
  },
  "cells": [
    {
      "cell_type": "markdown",
      "metadata": {
        "id": "c-8pQHKT_N_d"
      },
      "source": [
        "#Mathematical Optimization: First Exercise with Xpress\n",
        "\n",
        "part of CO@Work Summer School 2020 by Zuse Institute Berlin\n",
        "\n",
        "\n",
        "Problem formulation:\n",
        ">$\\min x + y$ \\\\\n",
        ">$ x +2y \\geq 5$ \\\\\n",
        ">$4x + y \\geq 6$"
      ]
    },
    {
      "cell_type": "code",
      "metadata": {
        "colab": {
          "base_uri": "https://localhost:8080/"
        },
        "id": "0BZ20NVLKYl1",
        "outputId": "7b46a8bb-b428-4c8a-80c8-81b615fe5ea9"
      },
      "source": [
        "pip install xpress"
      ],
      "execution_count": 1,
      "outputs": [
        {
          "output_type": "stream",
          "text": [
            "Collecting xpress\n",
            "\u001b[?25l  Downloading https://files.pythonhosted.org/packages/0b/c7/f82745387b9a0cc55d428aa92c7c680e52ed51a1ac987c9c045921599f0c/xpress-8.11.0-cp36-cp36m-manylinux1_x86_64.whl (43.8MB)\n",
            "\u001b[K     |████████████████████████████████| 43.8MB 98kB/s \n",
            "\u001b[?25hRequirement already satisfied: numpy>=1.8 in /usr/local/lib/python3.6/dist-packages (from xpress) (1.18.5)\n",
            "Installing collected packages: xpress\n",
            "Successfully installed xpress-8.11.0\n"
          ],
          "name": "stdout"
        }
      ]
    },
    {
      "cell_type": "code",
      "metadata": {
        "colab": {
          "base_uri": "https://localhost:8080/"
        },
        "id": "qoWo2yoYQiiG",
        "outputId": "d8c274ac-39da-41ba-faf7-7c8440207a15"
      },
      "source": [
        "import xpress as xp"
      ],
      "execution_count": 2,
      "outputs": [
        {
          "output_type": "stream",
          "text": [
            "Using the Community license in this session. If you have a full Xpress license, first set the XPAUTH_PATH environment variable to the full path to your license file, xpauth.xpr, and then restart Python. If you want to use the FICO Community license and no longer want to see this message, set the XPAUTH_PATH environment variable to: /usr/local/lib/python3.6/dist-packages/xpress/license/community-xpauth.xpr\n",
            "NB: setting XPAUTH_PATH will also affect any other Xpress products installed on your system.\n"
          ],
          "name": "stdout"
        }
      ]
    },
    {
      "cell_type": "code",
      "metadata": {
        "colab": {
          "base_uri": "https://localhost:8080/"
        },
        "id": "_r_DyrUmPTVi",
        "outputId": "e27310e3-8bdd-45bb-b829-976e51a47bf6"
      },
      "source": [
        "#create two variables x and y \n",
        "# lb --> lower bound, up--> upper bound\n",
        "\n",
        "x = xp.var('x', lb = -xp.infinity)\n",
        "y = xp.var('y',lb = -xp.infinity)\n",
        "\n",
        "print(f\"1st variable: name {x.name} lb{x.lb} ub{x.ub}\")\n",
        "print(f\"2nd variable: name {y.name} lb{y.lb} ub{y.ub}\")"
      ],
      "execution_count": 3,
      "outputs": [
        {
          "output_type": "stream",
          "text": [
            "1st variable: name x lb-1e+20 ub1e+20\n",
            "2nd variable: name y lb-1e+20 ub1e+20\n"
          ],
          "name": "stdout"
        }
      ]
    },
    {
      "cell_type": "code",
      "metadata": {
        "colab": {
          "base_uri": "https://localhost:8080/"
        },
        "id": "AW0TXtcmQgIO",
        "outputId": "537e02e5-ff85-494a-fdd5-ffc9d1dea927"
      },
      "source": [
        "p = xp.problem(\n",
        "    [x,y],\n",
        "    x + 2*y >= 5,\n",
        "    4*x + y >= 6,\n",
        "    x+y,\n",
        "    name = 'my_problem'\n",
        ")\n",
        "\n",
        "p.write(\"register\",\"lp\")\n",
        "with open(\"register.lp\", \"r\") as file_:\n",
        "  print(\"\".join(file_.readlines()))"
      ],
      "execution_count": 4,
      "outputs": [
        {
          "output_type": "stream",
          "text": [
            "\\Problem name: my_problem                                                       \n",
            "\\FICO Xpress v8.11.0, Community, written 8:37:51, Nov 24, 2020\n",
            "\n",
            "Minimize\n",
            " x + y\n",
            "\n",
            "Subject To\n",
            "R1: x + 2 y >= 5 \n",
            "R2: 4 x + y >= 6 \n",
            "\n",
            "Bounds\n",
            "x free\n",
            "y free\n",
            "\n",
            "End\n",
            "\n"
          ],
          "name": "stdout"
        }
      ]
    },
    {
      "cell_type": "code",
      "metadata": {
        "colab": {
          "base_uri": "https://localhost:8080/"
        },
        "id": "5CKPH0wgRWil",
        "outputId": "5f5eb5f8-6bed-4b4c-ff61-ee40fc3e5d84"
      },
      "source": [
        "#solving the model\n",
        "p.solve()"
      ],
      "execution_count": 5,
      "outputs": [
        {
          "output_type": "stream",
          "text": [
            "FICO Xpress v8.11.0, Community, solve started 8:37:51, Nov 24, 2020\n",
            "Heap usage: 338KB (peak 338KB, 576KB system)\n",
            "Minimizing LP my_problem with these control settings:\n",
            "OUTPUTLOG = 1\n",
            "\n",
            "Original problem has:\n",
            "         2 rows            2 cols            4 elements\n",
            "Presolved problem has:\n",
            "         0 rows            0 cols            0 elements\n",
            "Presolve finished in 0 seconds\n",
            "Heap usage: 338KB (peak 351KB, 578KB system)\n",
            " \n",
            "   Its         Obj Value      S   Ninf  Nneg   Sum Dual Inf  Time\n",
            "     0          3.000000      D      0     0        .000000     0\n",
            "Uncrunching matrix\n",
            "Optimal solution found\n",
            "Dual solved problem\n",
            "  0 simplex iterations in 0s\n",
            "\n",
            "Final objective                       : 3.000000000000000e+00\n",
            "  Max primal violation      (abs/rel) :       0.0 /       0.0\n",
            "  Max dual violation        (abs/rel) :       0.0 /       0.0\n",
            "  Max complementarity viol. (abs/rel) :       0.0 /       0.0\n"
          ],
          "name": "stdout"
        }
      ]
    },
    {
      "cell_type": "code",
      "metadata": {
        "colab": {
          "base_uri": "https://localhost:8080/"
        },
        "id": "kP3MYRcK0Uao",
        "outputId": "5ce28ace-fed7-414e-96f8-eac9b69080cd"
      },
      "source": [
        "#store the optimal objective and solution vecotr into two local variables obj and sol\n",
        "\n",
        "sol = p.getSolution()\n",
        "obj = p.getObjVal()\n",
        "\n",
        "print(\"Solution {} with objective value {}\".format(sol,obj))"
      ],
      "execution_count": 6,
      "outputs": [
        {
          "output_type": "stream",
          "text": [
            "Solution [1.0, 2.0] with objective value 3.0\n"
          ],
          "name": "stdout"
        }
      ]
    },
    {
      "cell_type": "code",
      "metadata": {
        "id": "7C3dyQ4p0yjd"
      },
      "source": [
        "#one can solve the above problem in a more general way: \n",
        "#we can create constraints and objective functions,  then create an empty problem\n",
        "#and add each object independently with addVariable, addConstraint, setObjective."
      ],
      "execution_count": 7,
      "outputs": []
    },
    {
      "cell_type": "code",
      "metadata": {
        "colab": {
          "base_uri": "https://localhost:8080/"
        },
        "id": "BEbnD4uq-U5r",
        "outputId": "3dceb165-6355-457d-db24-3eb279d86779"
      },
      "source": [
        "con1 = x + 2*y >= 5\n",
        "con2 = 4*x + y >= 6\n",
        "objective = x+y\n",
        "\n",
        "\n",
        "p = xp.problem()\n",
        "\n",
        "\n",
        "#Add variables and constraints and set objective\n",
        "p.addVariable(x,y)\n",
        "p.addConstraint(con1,con2)\n",
        "p.setObjective(objective)"
      ],
      "execution_count": 8,
      "outputs": [
        {
          "output_type": "stream",
          "text": [
            "\n"
          ],
          "name": "stdout"
        }
      ]
    },
    {
      "cell_type": "code",
      "metadata": {
        "colab": {
          "base_uri": "https://localhost:8080/"
        },
        "id": "PGaMcV3o-4Vq",
        "outputId": "805d452a-3eaa-4b98-9bda-70fdb62c08cc"
      },
      "source": [
        "#Solve the problem and display the solution\n",
        "p.solve()\n",
        "sol = p.getSolution()\n",
        "obj = p.getObjVal()\n",
        "print(sol)\n",
        "print(obj)\n"
      ],
      "execution_count": 9,
      "outputs": [
        {
          "output_type": "stream",
          "text": [
            "FICO Xpress v8.11.0, Community, solve started 8:37:51, Nov 24, 2020\n",
            "Heap usage: 338KB (peak 338KB, 562KB system)\n",
            "Minimizing LP noname with these control settings:\n",
            "OUTPUTLOG = 1\n",
            "\n",
            "Original problem has:\n",
            "         2 rows            2 cols            4 elements\n",
            "Presolved problem has:\n",
            "         0 rows            0 cols            0 elements\n",
            "Presolve finished in 0 seconds\n",
            "Heap usage: 338KB (peak 350KB, 564KB system)\n",
            " \n",
            "   Its         Obj Value      S   Ninf  Nneg   Sum Dual Inf  Time\n",
            "     0          3.000000      D      0     0        .000000     0\n",
            "Uncrunching matrix\n",
            "Optimal solution found\n",
            "Dual solved problem\n",
            "  0 simplex iterations in 0s\n",
            "\n",
            "Final objective                       : 3.000000000000000e+00\n",
            "  Max primal violation      (abs/rel) :       0.0 /       0.0\n",
            "  Max dual violation        (abs/rel) :       0.0 /       0.0\n",
            "  Max complementarity viol. (abs/rel) :       0.0 /       0.0\n",
            "[1.0, 2.0]\n",
            "3.0\n"
          ],
          "name": "stdout"
        }
      ]
    }
  ]
}